{
 "cells": [
  {
   "cell_type": "code",
   "execution_count": 24,
   "metadata": {},
   "outputs": [],
   "source": [
    "import requests\n",
    "from bs4 import BeautifulSoup\n",
    "import urllib\n",
    "import itertools\n",
    "import os\n",
    "import re\n",
    "import functools\n",
    "from multiprocessing.dummy import Pool as ThreadPool"
   ]
  },
  {
   "cell_type": "code",
   "execution_count": 25,
   "metadata": {},
   "outputs": [],
   "source": [
    "base_url = \"http://gd2.mlb.com/components/game/mlb/\""
   ]
  },
  {
   "cell_type": "code",
   "execution_count": 26,
   "metadata": {},
   "outputs": [],
   "source": [
    "date_tuples = list(itertools.product(range(4,10),range(1,32),[2019])) # put the dates to download pitchfx, as tuples (month, day, year)"
   ]
  },
  {
   "cell_type": "code",
   "execution_count": 27,
   "metadata": {},
   "outputs": [],
   "source": [
    "date_tuples += [(3,28,2019),(3,31,2019),(3,30,2019)]"
   ]
  },
  {
   "cell_type": "code",
   "execution_count": null,
   "metadata": {},
   "outputs": [],
   "source": [
    "date_tuples"
   ]
  },
  {
   "cell_type": "code",
   "execution_count": null,
   "metadata": {},
   "outputs": [],
   "source": [
    "# This builds a list of games url paths to download\n",
    "games = []\n",
    "for date in date_tuples:\n",
    "    month, day, year = date\n",
    "    try:\n",
    "        day_url = base_url+f\"year_{year}/month_{str(month).zfill(2)}/day_{str(day).zfill(2)}\"\n",
    "        soup = BeautifulSoup(requests.get(day_url).text)\n",
    "        games += [ f\"{day_url}/{node.get('href').split('/')[1]}\" for node in soup.find_all('a') if 'nya' in node.get('href')]\n",
    "    except:\n",
    "        pass"
   ]
  },
  {
   "cell_type": "code",
   "execution_count": null,
   "metadata": {},
   "outputs": [],
   "source": [
    "#games # just a check to see if there's data here"
   ]
  },
  {
   "cell_type": "code",
   "execution_count": null,
   "metadata": {},
   "outputs": [],
   "source": [
    "# this code downloads the pitchfx xml for the games discovered on the date\n",
    "# it uses multi-threading to download faster(a lot)\n",
    "pool = ThreadPool(4)\n",
    "results = pool.map(lambda x: urllib.request.urlretrieve(f\"{x}/inning/inning_all.xml\", f\"{x.split('/')[9]}.xml\") if not os.path.isfile(f\"{x.split('/')[9]}.xml\") else None, games)\n",
    "pool.close()\n",
    "pool.join()"
   ]
  },
  {
   "cell_type": "code",
   "execution_count": null,
   "metadata": {},
   "outputs": [],
   "source": [
    "!pip install scipy"
   ]
  },
  {
   "cell_type": "markdown",
   "metadata": {},
   "source": [
    "## Code below is meant to parse the xml files downloaded above and put into a pandas dataframe and also get the homeplate ump"
   ]
  },
  {
   "cell_type": "code",
   "execution_count": 29,
   "metadata": {},
   "outputs": [],
   "source": [
    "import xml.etree.ElementTree as ET\n",
    "import pandas as pd\n",
    "import numpy as np\n",
    "import os\n",
    "from scipy.spatial import distance\n",
    "from scipy.spatial.distance import cdist\n",
    "pd.set_option('display.max_columns', 500)"
   ]
  },
  {
   "cell_type": "code",
   "execution_count": 30,
   "metadata": {},
   "outputs": [],
   "source": [
    "# this is later used to find the center of the strike zone\n",
    "def to_inches(height_string):\n",
    "    feet, inches = re.findall(re.compile(\"(\\d+)['] ?(\\d\\d?)\"),height_string)[0]\n",
    "    return int(feet) * 12 + int(inches)"
   ]
  },
  {
   "cell_type": "code",
   "execution_count": 31,
   "metadata": {},
   "outputs": [],
   "source": [
    "# well use this later to make the highlights easier to get to\n",
    "pd.set_option(\"display.max_rows\",300)\n",
    "def make_clickable(val):\n",
    "    # target _blank to open new window\n",
    "    return '<a target=\"_blank\" href=\"{}\">{}</a>'.format(val, val)\n"
   ]
  },
  {
   "cell_type": "code",
   "execution_count": 32,
   "metadata": {},
   "outputs": [],
   "source": [
    "def get_ump(game):\n",
    "    urllib.request.urlretrieve(f\"{game}/players.xml\",\"players.xml\")\n",
    "    with open(\"players.xml\", 'r') as file:\n",
    "        root = ET.parse(file).getroot()\n",
    "    for ump in root.iter(tag=\"umpire\"):\n",
    "        if ump.attrib[\"position\"] == \"home\":\n",
    "            return ump.attrib[\"name\"]"
   ]
  },
  {
   "cell_type": "code",
   "execution_count": 33,
   "metadata": {},
   "outputs": [
    {
     "data": {
      "text/plain": [
       "'Brian Knight'"
      ]
     },
     "execution_count": 33,
     "metadata": {},
     "output_type": "execute_result"
    }
   ],
   "source": [
    "get_ump(games[1]) # test if get_ump works"
   ]
  },
  {
   "cell_type": "code",
   "execution_count": 34,
   "metadata": {},
   "outputs": [],
   "source": [
    "# builds a list for each game\n",
    "at_bats = []\n",
    "for game in games:\n",
    "   # print(game)\n",
    "    with open(f\"{game.split('/')[9]}.xml\", 'r') as file:\n",
    "        root = ET.parse(file).getroot()\n",
    "    home_ump = get_ump(game)\n",
    "    for atbat in root.iter(tag='atbat'):\n",
    "        for pitch in atbat.iter(tag='pitch'):\n",
    "            data = pitch.attrib\n",
    "            data[\"home_ump\"] = home_ump\n",
    "            data[\"batter\"] = atbat.attrib[\"batter\"]\n",
    "            data[\"pitcher\"] = atbat.attrib[\"pitcher\"]\n",
    "            data[\"atbat_result\"] = atbat.attrib[\"event\"]\n",
    "            data[\"atbat_des\"] = atbat.attrib[\"des\"]\n",
    "            data[\"atbat_num\"] = atbat.attrib[\"num\"]\n",
    "            data[\"atbat_b_height_inches\"] = to_inches(atbat.attrib[\"b_height\"])\n",
    "            data[\"game_id\"] = f\"{game.split('/')[9]}\"\n",
    "            at_bats.append(data)"
   ]
  },
  {
   "cell_type": "markdown",
   "metadata": {},
   "source": [
    "## umpire closeness starts here"
   ]
  },
  {
   "cell_type": "code",
   "execution_count": 35,
   "metadata": {},
   "outputs": [],
   "source": [
    "df_ab = pd.DataFrame(at_bats)"
   ]
  },
  {
   "cell_type": "code",
   "execution_count": 36,
   "metadata": {},
   "outputs": [],
   "source": [
    "import pybaseball"
   ]
  },
  {
   "cell_type": "code",
   "execution_count": 38,
   "metadata": {},
   "outputs": [
    {
     "data": {
      "text/plain": [
       "0    543281\n",
       "1    543281\n",
       "2    543281\n",
       "3    543281\n",
       "4    543281\n",
       "Name: batter, dtype: object"
      ]
     },
     "execution_count": 38,
     "metadata": {},
     "output_type": "execute_result"
    }
   ],
   "source": [
    "df_ab.batter.head()"
   ]
  },
  {
   "cell_type": "code",
   "execution_count": 44,
   "metadata": {},
   "outputs": [
    {
     "name": "stdout",
     "output_type": "stream",
     "text": [
      "Gathering player lookup table. This may take a moment.\n"
     ]
    },
    {
     "data": {
      "text/plain": [
       "0    josh harrison\n",
       "dtype: object"
      ]
     },
     "execution_count": 44,
     "metadata": {},
     "output_type": "execute_result"
    }
   ],
   "source": [
    "pybaseball.playerid_reverse_lookup([543281]).apply(lambda x: x[\"name_first\"] + \" \" + x[\"name_last\"], axis=1)"
   ]
  },
  {
   "cell_type": "code",
   "execution_count": 45,
   "metadata": {},
   "outputs": [
    {
     "name": "stdout",
     "output_type": "stream",
     "text": [
      "Gathering player lookup table. This may take a moment.\n"
     ]
    }
   ],
   "source": [
    "batters = pybaseball.playerid_reverse_lookup(df_ab.batter.unique())"
   ]
  },
  {
   "cell_type": "code",
   "execution_count": 47,
   "metadata": {},
   "outputs": [
    {
     "name": "stdout",
     "output_type": "stream",
     "text": [
      "Gathering player lookup table. This may take a moment.\n"
     ]
    }
   ],
   "source": [
    "pitchers = pybaseball.playerid_reverse_lookup(df_ab.pitcher.unique())"
   ]
  },
  {
   "cell_type": "code",
   "execution_count": 55,
   "metadata": {},
   "outputs": [],
   "source": [
    "def get_batter_name(batter_id):\n",
    "    batter = batters.query(f\"key_mlbam == {batter_id}\").iloc[0]\n",
    "    return f'{batter[\"name_first\"]} {batter[\"name_last\"]}'\n",
    "\n",
    "def get_pitcher_name(pitcher_id):\n",
    "    pitcher = pitchers.query(f\"key_mlbam == {pitcher_id}\").iloc[0]\n",
    "    return f'{pitcher[\"name_first\"]} {pitcher[\"name_last\"]}'"
   ]
  },
  {
   "cell_type": "code",
   "execution_count": 56,
   "metadata": {},
   "outputs": [
    {
     "data": {
      "text/plain": [
       "'willy adames'"
      ]
     },
     "execution_count": 56,
     "metadata": {},
     "output_type": "execute_result"
    }
   ],
   "source": [
    "get_batter_name(642715)"
   ]
  },
  {
   "cell_type": "code",
   "execution_count": 54,
   "metadata": {},
   "outputs": [],
   "source": [
    "df_ab[\"batter_name\"] = df_ab.batter.apply(get_batter_name)"
   ]
  },
  {
   "cell_type": "code",
   "execution_count": 57,
   "metadata": {},
   "outputs": [],
   "source": [
    "df_ab[\"pitcher_name\"] = df_ab.pitcher.apply(get_pitcher_name)"
   ]
  },
  {
   "cell_type": "code",
   "execution_count": 58,
   "metadata": {},
   "outputs": [
    {
     "data": {
      "text/html": [
       "<div>\n",
       "<style scoped>\n",
       "    .dataframe tbody tr th:only-of-type {\n",
       "        vertical-align: middle;\n",
       "    }\n",
       "\n",
       "    .dataframe tbody tr th {\n",
       "        vertical-align: top;\n",
       "    }\n",
       "\n",
       "    .dataframe thead th {\n",
       "        text-align: right;\n",
       "    }\n",
       "</style>\n",
       "<table border=\"1\" class=\"dataframe\">\n",
       "  <thead>\n",
       "    <tr style=\"text-align: right;\">\n",
       "      <th></th>\n",
       "      <th>ax</th>\n",
       "      <th>ay</th>\n",
       "      <th>az</th>\n",
       "      <th>break_angle</th>\n",
       "      <th>break_length</th>\n",
       "      <th>break_y</th>\n",
       "      <th>cc</th>\n",
       "      <th>code</th>\n",
       "      <th>des</th>\n",
       "      <th>des_es</th>\n",
       "      <th>end_speed</th>\n",
       "      <th>event_num</th>\n",
       "      <th>id</th>\n",
       "      <th>mt</th>\n",
       "      <th>nasty</th>\n",
       "      <th>pfx_x</th>\n",
       "      <th>pfx_z</th>\n",
       "      <th>pitch_type</th>\n",
       "      <th>play_guid</th>\n",
       "      <th>px</th>\n",
       "      <th>pz</th>\n",
       "      <th>spin_dir</th>\n",
       "      <th>spin_rate</th>\n",
       "      <th>start_speed</th>\n",
       "      <th>sv_id</th>\n",
       "      <th>sz_bot</th>\n",
       "      <th>sz_top</th>\n",
       "      <th>tfs</th>\n",
       "      <th>tfs_zulu</th>\n",
       "      <th>type</th>\n",
       "      <th>type_confidence</th>\n",
       "      <th>vx0</th>\n",
       "      <th>vy0</th>\n",
       "      <th>vz0</th>\n",
       "      <th>x</th>\n",
       "      <th>x0</th>\n",
       "      <th>y</th>\n",
       "      <th>y0</th>\n",
       "      <th>z0</th>\n",
       "      <th>zone</th>\n",
       "      <th>home_ump</th>\n",
       "      <th>batter</th>\n",
       "      <th>pitcher</th>\n",
       "      <th>atbat_result</th>\n",
       "      <th>atbat_des</th>\n",
       "      <th>atbat_num</th>\n",
       "      <th>atbat_b_height_inches</th>\n",
       "      <th>game_id</th>\n",
       "      <th>batter_name</th>\n",
       "      <th>pitcher_name</th>\n",
       "    </tr>\n",
       "  </thead>\n",
       "  <tbody>\n",
       "    <tr>\n",
       "      <th>0</th>\n",
       "      <td>-13.24</td>\n",
       "      <td>30.05</td>\n",
       "      <td>-15.24</td>\n",
       "      <td>34.8</td>\n",
       "      <td>4.8</td>\n",
       "      <td>24.0</td>\n",
       "      <td></td>\n",
       "      <td>C</td>\n",
       "      <td>Called Strike</td>\n",
       "      <td>In play, out(s)</td>\n",
       "      <td>86.4</td>\n",
       "      <td>2</td>\n",
       "      <td>2</td>\n",
       "      <td></td>\n",
       "      <td></td>\n",
       "      <td>-6.93</td>\n",
       "      <td>8.86</td>\n",
       "      <td>FF</td>\n",
       "      <td>0f37f9a8-a0b4-4fa9-8057-95614a4c5f67</td>\n",
       "      <td>0.66</td>\n",
       "      <td>2.32</td>\n",
       "      <td>placeholder</td>\n",
       "      <td>placeholder</td>\n",
       "      <td>94.6</td>\n",
       "      <td>190401_223912</td>\n",
       "      <td>1.6</td>\n",
       "      <td>3.46</td>\n",
       "      <td>223907</td>\n",
       "      <td>2019-04-01T22:39:07.000Z</td>\n",
       "      <td>S</td>\n",
       "      <td>placeholder</td>\n",
       "      <td>8.76</td>\n",
       "      <td>-137.3</td>\n",
       "      <td>-5.37</td>\n",
       "      <td>91.73</td>\n",
       "      <td>-1.67</td>\n",
       "      <td>176.15</td>\n",
       "      <td>50.0</td>\n",
       "      <td>5.33</td>\n",
       "      <td>placeholder</td>\n",
       "      <td>Gerry Davis</td>\n",
       "      <td>543281</td>\n",
       "      <td>593334</td>\n",
       "      <td>Pop Out</td>\n",
       "      <td>Josh Harrison pops out to second baseman Gleyb...</td>\n",
       "      <td>1</td>\n",
       "      <td>68</td>\n",
       "      <td>gid_2019_04_01_detmlb_nyamlb_1</td>\n",
       "      <td>josh harrison</td>\n",
       "      <td>domingo german</td>\n",
       "    </tr>\n",
       "    <tr>\n",
       "      <th>1</th>\n",
       "      <td>-13.61</td>\n",
       "      <td>30.67</td>\n",
       "      <td>-16.23</td>\n",
       "      <td>33.6</td>\n",
       "      <td>4.8</td>\n",
       "      <td>24.0</td>\n",
       "      <td></td>\n",
       "      <td>S</td>\n",
       "      <td>Swinging Strike</td>\n",
       "      <td>Called Strike</td>\n",
       "      <td>86.4</td>\n",
       "      <td>3</td>\n",
       "      <td>3</td>\n",
       "      <td></td>\n",
       "      <td></td>\n",
       "      <td>-7.12</td>\n",
       "      <td>8.34</td>\n",
       "      <td>FF</td>\n",
       "      <td>7f6a7cf6-5250-4e41-952d-aa51dbb61b4a</td>\n",
       "      <td>1.19</td>\n",
       "      <td>2.31</td>\n",
       "      <td>placeholder</td>\n",
       "      <td>placeholder</td>\n",
       "      <td>94.8</td>\n",
       "      <td>190401_223925</td>\n",
       "      <td>1.48</td>\n",
       "      <td>3.26</td>\n",
       "      <td>223920</td>\n",
       "      <td>2019-04-01T22:39:20.000Z</td>\n",
       "      <td>S</td>\n",
       "      <td>placeholder</td>\n",
       "      <td>9.99</td>\n",
       "      <td>-137.47</td>\n",
       "      <td>-5.21</td>\n",
       "      <td>71.77</td>\n",
       "      <td>-1.57</td>\n",
       "      <td>176.31</td>\n",
       "      <td>50.0</td>\n",
       "      <td>5.34</td>\n",
       "      <td>placeholder</td>\n",
       "      <td>Gerry Davis</td>\n",
       "      <td>543281</td>\n",
       "      <td>593334</td>\n",
       "      <td>Pop Out</td>\n",
       "      <td>Josh Harrison pops out to second baseman Gleyb...</td>\n",
       "      <td>1</td>\n",
       "      <td>68</td>\n",
       "      <td>gid_2019_04_01_detmlb_nyamlb_1</td>\n",
       "      <td>josh harrison</td>\n",
       "      <td>domingo german</td>\n",
       "    </tr>\n",
       "    <tr>\n",
       "      <th>2</th>\n",
       "      <td>0.88</td>\n",
       "      <td>23.11</td>\n",
       "      <td>-37.31</td>\n",
       "      <td>2.4</td>\n",
       "      <td>10.8</td>\n",
       "      <td>24.0</td>\n",
       "      <td></td>\n",
       "      <td>B</td>\n",
       "      <td>Ball</td>\n",
       "      <td>Swinging Strike</td>\n",
       "      <td>75.5</td>\n",
       "      <td>4</td>\n",
       "      <td>4</td>\n",
       "      <td></td>\n",
       "      <td></td>\n",
       "      <td>0.6</td>\n",
       "      <td>-3.54</td>\n",
       "      <td>CU</td>\n",
       "      <td>ab7edd0c-3ee5-4ff9-b817-5e8f4b1a340d</td>\n",
       "      <td>-0.73</td>\n",
       "      <td>3.75</td>\n",
       "      <td>placeholder</td>\n",
       "      <td>placeholder</td>\n",
       "      <td>82.4</td>\n",
       "      <td>190401_223942</td>\n",
       "      <td>1.61</td>\n",
       "      <td>3.44</td>\n",
       "      <td>223937</td>\n",
       "      <td>2019-04-01T22:39:37.000Z</td>\n",
       "      <td>B</td>\n",
       "      <td>placeholder</td>\n",
       "      <td>1.75</td>\n",
       "      <td>-119.77</td>\n",
       "      <td>2.64</td>\n",
       "      <td>144.96</td>\n",
       "      <td>-1.55</td>\n",
       "      <td>137.39</td>\n",
       "      <td>50.0</td>\n",
       "      <td>5.97</td>\n",
       "      <td>placeholder</td>\n",
       "      <td>Gerry Davis</td>\n",
       "      <td>543281</td>\n",
       "      <td>593334</td>\n",
       "      <td>Pop Out</td>\n",
       "      <td>Josh Harrison pops out to second baseman Gleyb...</td>\n",
       "      <td>1</td>\n",
       "      <td>68</td>\n",
       "      <td>gid_2019_04_01_detmlb_nyamlb_1</td>\n",
       "      <td>josh harrison</td>\n",
       "      <td>domingo german</td>\n",
       "    </tr>\n",
       "    <tr>\n",
       "      <th>3</th>\n",
       "      <td>-14.51</td>\n",
       "      <td>32.61</td>\n",
       "      <td>-15.76</td>\n",
       "      <td>37.2</td>\n",
       "      <td>4.8</td>\n",
       "      <td>24.0</td>\n",
       "      <td></td>\n",
       "      <td>F</td>\n",
       "      <td>Foul</td>\n",
       "      <td>Ball</td>\n",
       "      <td>87.6</td>\n",
       "      <td>5</td>\n",
       "      <td>5</td>\n",
       "      <td></td>\n",
       "      <td></td>\n",
       "      <td>-7.36</td>\n",
       "      <td>8.32</td>\n",
       "      <td>FF</td>\n",
       "      <td>554ca6b9-83c6-4d3d-b2bb-3a58a4051839</td>\n",
       "      <td>0.65</td>\n",
       "      <td>2.53</td>\n",
       "      <td>placeholder</td>\n",
       "      <td>placeholder</td>\n",
       "      <td>96.3</td>\n",
       "      <td>190401_223956</td>\n",
       "      <td>1.48</td>\n",
       "      <td>3.26</td>\n",
       "      <td>223952</td>\n",
       "      <td>2019-04-01T22:39:52.000Z</td>\n",
       "      <td>S</td>\n",
       "      <td>placeholder</td>\n",
       "      <td>8.1</td>\n",
       "      <td>-139.81</td>\n",
       "      <td>-5.01</td>\n",
       "      <td>92.4</td>\n",
       "      <td>-1.34</td>\n",
       "      <td>170.51</td>\n",
       "      <td>50.0</td>\n",
       "      <td>5.38</td>\n",
       "      <td>placeholder</td>\n",
       "      <td>Gerry Davis</td>\n",
       "      <td>543281</td>\n",
       "      <td>593334</td>\n",
       "      <td>Pop Out</td>\n",
       "      <td>Josh Harrison pops out to second baseman Gleyb...</td>\n",
       "      <td>1</td>\n",
       "      <td>68</td>\n",
       "      <td>gid_2019_04_01_detmlb_nyamlb_1</td>\n",
       "      <td>josh harrison</td>\n",
       "      <td>domingo german</td>\n",
       "    </tr>\n",
       "    <tr>\n",
       "      <th>4</th>\n",
       "      <td>1.27</td>\n",
       "      <td>20.32</td>\n",
       "      <td>-38.45</td>\n",
       "      <td>2.4</td>\n",
       "      <td>10.8</td>\n",
       "      <td>24.0</td>\n",
       "      <td></td>\n",
       "      <td>X</td>\n",
       "      <td>In play, out(s)</td>\n",
       "      <td>Foul</td>\n",
       "      <td>76.5</td>\n",
       "      <td>6</td>\n",
       "      <td>6</td>\n",
       "      <td></td>\n",
       "      <td></td>\n",
       "      <td>0.86</td>\n",
       "      <td>-4.28</td>\n",
       "      <td>CU</td>\n",
       "      <td>c49afc96-76da-450b-8a97-46b588a80c05</td>\n",
       "      <td>-0.06</td>\n",
       "      <td>2.57</td>\n",
       "      <td>placeholder</td>\n",
       "      <td>placeholder</td>\n",
       "      <td>82.2</td>\n",
       "      <td>190401_224029</td>\n",
       "      <td>1.63</td>\n",
       "      <td>3.55</td>\n",
       "      <td>224016</td>\n",
       "      <td>2019-04-01T22:40:16.000Z</td>\n",
       "      <td>X</td>\n",
       "      <td>placeholder</td>\n",
       "      <td>2.66</td>\n",
       "      <td>-119.62</td>\n",
       "      <td>0.32</td>\n",
       "      <td>119.04</td>\n",
       "      <td>-1.29</td>\n",
       "      <td>169.44</td>\n",
       "      <td>50.0</td>\n",
       "      <td>5.84</td>\n",
       "      <td>placeholder</td>\n",
       "      <td>Gerry Davis</td>\n",
       "      <td>543281</td>\n",
       "      <td>593334</td>\n",
       "      <td>Pop Out</td>\n",
       "      <td>Josh Harrison pops out to second baseman Gleyb...</td>\n",
       "      <td>1</td>\n",
       "      <td>68</td>\n",
       "      <td>gid_2019_04_01_detmlb_nyamlb_1</td>\n",
       "      <td>josh harrison</td>\n",
       "      <td>domingo german</td>\n",
       "    </tr>\n",
       "  </tbody>\n",
       "</table>\n",
       "</div>"
      ],
      "text/plain": [
       "       ax     ay      az break_angle break_length break_y cc code  \\\n",
       "0  -13.24  30.05  -15.24        34.8          4.8    24.0       C   \n",
       "1  -13.61  30.67  -16.23        33.6          4.8    24.0       S   \n",
       "2    0.88  23.11  -37.31         2.4         10.8    24.0       B   \n",
       "3  -14.51  32.61  -15.76        37.2          4.8    24.0       F   \n",
       "4    1.27  20.32  -38.45         2.4         10.8    24.0       X   \n",
       "\n",
       "               des           des_es end_speed event_num id mt nasty  pfx_x  \\\n",
       "0    Called Strike  In play, out(s)      86.4         2  2           -6.93   \n",
       "1  Swinging Strike    Called Strike      86.4         3  3           -7.12   \n",
       "2             Ball  Swinging Strike      75.5         4  4             0.6   \n",
       "3             Foul             Ball      87.6         5  5           -7.36   \n",
       "4  In play, out(s)             Foul      76.5         6  6            0.86   \n",
       "\n",
       "   pfx_z pitch_type                             play_guid     px    pz  \\\n",
       "0   8.86         FF  0f37f9a8-a0b4-4fa9-8057-95614a4c5f67   0.66  2.32   \n",
       "1   8.34         FF  7f6a7cf6-5250-4e41-952d-aa51dbb61b4a   1.19  2.31   \n",
       "2  -3.54         CU  ab7edd0c-3ee5-4ff9-b817-5e8f4b1a340d  -0.73  3.75   \n",
       "3   8.32         FF  554ca6b9-83c6-4d3d-b2bb-3a58a4051839   0.65  2.53   \n",
       "4  -4.28         CU  c49afc96-76da-450b-8a97-46b588a80c05  -0.06  2.57   \n",
       "\n",
       "      spin_dir    spin_rate start_speed          sv_id sz_bot sz_top     tfs  \\\n",
       "0  placeholder  placeholder        94.6  190401_223912    1.6   3.46  223907   \n",
       "1  placeholder  placeholder        94.8  190401_223925   1.48   3.26  223920   \n",
       "2  placeholder  placeholder        82.4  190401_223942   1.61   3.44  223937   \n",
       "3  placeholder  placeholder        96.3  190401_223956   1.48   3.26  223952   \n",
       "4  placeholder  placeholder        82.2  190401_224029   1.63   3.55  224016   \n",
       "\n",
       "                   tfs_zulu type type_confidence   vx0      vy0    vz0  \\\n",
       "0  2019-04-01T22:39:07.000Z    S     placeholder  8.76   -137.3  -5.37   \n",
       "1  2019-04-01T22:39:20.000Z    S     placeholder  9.99  -137.47  -5.21   \n",
       "2  2019-04-01T22:39:37.000Z    B     placeholder  1.75  -119.77   2.64   \n",
       "3  2019-04-01T22:39:52.000Z    S     placeholder   8.1  -139.81  -5.01   \n",
       "4  2019-04-01T22:40:16.000Z    X     placeholder  2.66  -119.62   0.32   \n",
       "\n",
       "        x     x0       y    y0    z0         zone     home_ump  batter  \\\n",
       "0   91.73  -1.67  176.15  50.0  5.33  placeholder  Gerry Davis  543281   \n",
       "1   71.77  -1.57  176.31  50.0  5.34  placeholder  Gerry Davis  543281   \n",
       "2  144.96  -1.55  137.39  50.0  5.97  placeholder  Gerry Davis  543281   \n",
       "3    92.4  -1.34  170.51  50.0  5.38  placeholder  Gerry Davis  543281   \n",
       "4  119.04  -1.29  169.44  50.0  5.84  placeholder  Gerry Davis  543281   \n",
       "\n",
       "  pitcher atbat_result                                          atbat_des  \\\n",
       "0  593334      Pop Out  Josh Harrison pops out to second baseman Gleyb...   \n",
       "1  593334      Pop Out  Josh Harrison pops out to second baseman Gleyb...   \n",
       "2  593334      Pop Out  Josh Harrison pops out to second baseman Gleyb...   \n",
       "3  593334      Pop Out  Josh Harrison pops out to second baseman Gleyb...   \n",
       "4  593334      Pop Out  Josh Harrison pops out to second baseman Gleyb...   \n",
       "\n",
       "  atbat_num  atbat_b_height_inches                         game_id  \\\n",
       "0         1                     68  gid_2019_04_01_detmlb_nyamlb_1   \n",
       "1         1                     68  gid_2019_04_01_detmlb_nyamlb_1   \n",
       "2         1                     68  gid_2019_04_01_detmlb_nyamlb_1   \n",
       "3         1                     68  gid_2019_04_01_detmlb_nyamlb_1   \n",
       "4         1                     68  gid_2019_04_01_detmlb_nyamlb_1   \n",
       "\n",
       "     batter_name    pitcher_name  \n",
       "0  josh harrison  domingo german  \n",
       "1  josh harrison  domingo german  \n",
       "2  josh harrison  domingo german  \n",
       "3  josh harrison  domingo german  \n",
       "4  josh harrison  domingo german  "
      ]
     },
     "execution_count": 58,
     "metadata": {},
     "output_type": "execute_result"
    }
   ],
   "source": [
    "df_ab.head()"
   ]
  },
  {
   "cell_type": "code",
   "execution_count": 59,
   "metadata": {},
   "outputs": [],
   "source": [
    "df_ab.to_csv(\"yankees_2019.csv\")"
   ]
  },
  {
   "cell_type": "code",
   "execution_count": null,
   "metadata": {},
   "outputs": [],
   "source": []
  }
 ],
 "metadata": {
  "kernelspec": {
   "display_name": "Python 3",
   "language": "python",
   "name": "python3"
  },
  "language_info": {
   "codemirror_mode": {
    "name": "ipython",
    "version": 3
   },
   "file_extension": ".py",
   "mimetype": "text/x-python",
   "name": "python",
   "nbconvert_exporter": "python",
   "pygments_lexer": "ipython3",
   "version": "3.7.4"
  }
 },
 "nbformat": 4,
 "nbformat_minor": 4
}
